{
 "cells": [
  {
   "cell_type": "code",
   "execution_count": 1,
   "metadata": {},
   "outputs": [],
   "source": [
    "from mlxtend.feature_selection import ExhaustiveFeatureSelector as EFS\n",
    "import numpy as np\n",
    "import pandas as pd\n",
    "import seaborn as sns\n",
    "import matplotlib.pyplot as plt\n",
    "\n",
    "from sklearn.model_selection import train_test_split\n",
    "from sklearn.ensemble import RandomForestRegressor, RandomForestClassifier\n",
    "from sklearn.metrics import roc_auc_score\n",
    "from mlxtend.feature_selection import SequentialFeatureSelector as SFS\n",
    "from sklearn.preprocessing import StandardScaler"
   ]
  },
  {
   "cell_type": "code",
   "execution_count": 2,
   "metadata": {},
   "outputs": [],
   "source": [
    "nflgames = pd.read_csv('nflfull.csv') # read CSV file generated in datacollection.py"
   ]
  },
  {
   "cell_type": "code",
   "execution_count": 3,
   "metadata": {},
   "outputs": [],
   "source": [
    "new = nflgames[['Home Win?', 'Home PF', 'Home PA', 'Home Wins to Date', 'Home Losses to Date', 'Home Ties to Date ', 'Away PF', 'Away PA', 'Away Wins to Date',\n",
    "                'Away Losses to Date', 'Away Ties to Date ', 'Road Closing Spread', 'Home Closing Spread']] # choose a subset of columns for analysis"
   ]
  },
  {
   "cell_type": "code",
   "execution_count": 4,
   "metadata": {},
   "outputs": [],
   "source": [
    "x = new.drop('Home Win?', 1)  # Feature Matrix\n",
    "y = new['Home Win?']  # target variable"
   ]
  },
  {
   "cell_type": "code",
   "execution_count": 5,
   "metadata": {},
   "outputs": [
    {
     "name": "stdout",
     "output_type": "stream",
     "text": [
      "Home PF                0\n",
      "Home PA                0\n",
      "Home Wins to Date      0\n",
      "Home Losses to Date    0\n",
      "Home Ties to Date      0\n",
      "Away PF                0\n",
      "Away PA                0\n",
      "Away Wins to Date      0\n",
      "Away Losses to Date    0\n",
      "Away Ties to Date      0\n",
      "Road Closing Spread    0\n",
      "Home Closing Spread    0\n",
      "dtype: int64\n"
     ]
    }
   ],
   "source": [
    "print(x.isnull().sum())  # no missing values in any of the columns"
   ]
  },
  {
   "cell_type": "code",
   "execution_count": 10,
   "metadata": {},
   "outputs": [],
   "source": [
    "x_train, x_test, y_train, y_test = train_test_split(\n",
    "    x, y, test_size=0.2, random_state=0) # split into training and test sets"
   ]
  },
  {
   "cell_type": "code",
   "execution_count": 11,
   "metadata": {},
   "outputs": [
    {
     "name": "stdout",
     "output_type": "stream",
     "text": [
      "(2009, 12) (503, 12)\n"
     ]
    }
   ],
   "source": [
    "print(x_train.shape, x_test.shape)  # shows shape of train and test set"
   ]
  },
  {
   "cell_type": "markdown",
   "metadata": {},
   "source": [
    "# Step Forward Feature Selection"
   ]
  },
  {
   "cell_type": "code",
   "execution_count": 12,
   "metadata": {
    "scrolled": false
   },
   "outputs": [
    {
     "name": "stderr",
     "output_type": "stream",
     "text": [
      "[Parallel(n_jobs=-1)]: Using backend LokyBackend with 8 concurrent workers.\n",
      "[Parallel(n_jobs=-1)]: Done   4 out of  12 | elapsed:    3.7s remaining:    7.5s\n",
      "[Parallel(n_jobs=-1)]: Done  12 out of  12 | elapsed:    4.9s finished\n",
      "\n",
      "[2020-05-03 23:01:56] Features: 1/12 -- score: 0.7570929007627543[Parallel(n_jobs=-1)]: Using backend LokyBackend with 8 concurrent workers.\n",
      "[Parallel(n_jobs=-1)]: Done   2 out of  11 | elapsed:    1.3s remaining:    6.2s\n",
      "[Parallel(n_jobs=-1)]: Done   8 out of  11 | elapsed:    1.8s remaining:    0.6s\n",
      "[Parallel(n_jobs=-1)]: Done  11 out of  11 | elapsed:    2.6s finished\n",
      "\n",
      "[2020-05-03 23:01:58] Features: 2/12 -- score: 0.7570929007627543[Parallel(n_jobs=-1)]: Using backend LokyBackend with 8 concurrent workers.\n",
      "[Parallel(n_jobs=-1)]: Done   7 out of  10 | elapsed:    1.8s remaining:    0.7s\n",
      "[Parallel(n_jobs=-1)]: Done  10 out of  10 | elapsed:    2.5s finished\n",
      "\n",
      "[2020-05-03 23:02:01] Features: 3/12 -- score: 0.75261478935154[Parallel(n_jobs=-1)]: Using backend LokyBackend with 8 concurrent workers.\n",
      "[Parallel(n_jobs=-1)]: Done   4 out of   9 | elapsed:    1.7s remaining:    2.1s\n",
      "[Parallel(n_jobs=-1)]: Done   9 out of   9 | elapsed:    2.6s remaining:    0.0s\n",
      "[Parallel(n_jobs=-1)]: Done   9 out of   9 | elapsed:    2.6s finished\n",
      "\n",
      "[2020-05-03 23:02:04] Features: 4/12 -- score: 0.7356904390390724[Parallel(n_jobs=-1)]: Using backend LokyBackend with 8 concurrent workers.\n",
      "[Parallel(n_jobs=-1)]: Done   3 out of   8 | elapsed:    1.7s remaining:    2.9s\n",
      "[Parallel(n_jobs=-1)]: Done   8 out of   8 | elapsed:    1.9s remaining:    0.0s\n",
      "[Parallel(n_jobs=-1)]: Done   8 out of   8 | elapsed:    1.9s finished\n",
      "\n",
      "[2020-05-03 23:02:06] Features: 5/12 -- score: 0.6938696506221633[Parallel(n_jobs=-1)]: Using backend LokyBackend with 8 concurrent workers.\n",
      "[Parallel(n_jobs=-1)]: Done   4 out of   7 | elapsed:    1.5s remaining:    1.1s\n",
      "[Parallel(n_jobs=-1)]: Done   7 out of   7 | elapsed:    1.7s finished\n",
      "\n",
      "[2020-05-03 23:02:08] Features: 6/12 -- score: 0.7023298456274306[Parallel(n_jobs=-1)]: Using backend LokyBackend with 8 concurrent workers.\n",
      "[Parallel(n_jobs=-1)]: Done   3 out of   6 | elapsed:    1.6s remaining:    1.6s\n",
      "[Parallel(n_jobs=-1)]: Done   6 out of   6 | elapsed:    1.8s finished\n",
      "\n",
      "[2020-05-03 23:02:09] Features: 7/12 -- score: 0.6968626488083451[Parallel(n_jobs=-1)]: Using backend LokyBackend with 8 concurrent workers.\n",
      "[Parallel(n_jobs=-1)]: Done   2 out of   5 | elapsed:    1.2s remaining:    1.9s\n",
      "[Parallel(n_jobs=-1)]: Done   5 out of   5 | elapsed:    1.3s remaining:    0.0s\n",
      "[Parallel(n_jobs=-1)]: Done   5 out of   5 | elapsed:    1.3s finished\n",
      "\n",
      "[2020-05-03 23:02:11] Features: 8/12 -- score: 0.714777074604168[Parallel(n_jobs=-1)]: Using backend LokyBackend with 8 concurrent workers.\n",
      "[Parallel(n_jobs=-1)]: Done   4 out of   4 | elapsed:    1.2s remaining:    0.0s\n",
      "[Parallel(n_jobs=-1)]: Done   4 out of   4 | elapsed:    1.2s finished\n",
      "\n",
      "[2020-05-03 23:02:12] Features: 9/12 -- score: 0.7227461921696912[Parallel(n_jobs=-1)]: Using backend LokyBackend with 8 concurrent workers.\n",
      "[Parallel(n_jobs=-1)]: Done   3 out of   3 | elapsed:    1.0s finished\n",
      "\n",
      "[2020-05-03 23:02:13] Features: 10/12 -- score: 0.7252332617838784[Parallel(n_jobs=-1)]: Using backend LokyBackend with 8 concurrent workers.\n",
      "[Parallel(n_jobs=-1)]: Done   2 out of   2 | elapsed:    0.9s finished\n",
      "\n",
      "[2020-05-03 23:02:14] Features: 11/12 -- score: 0.7287163473343208[Parallel(n_jobs=-1)]: Using backend LokyBackend with 8 concurrent workers.\n"
     ]
    },
    {
     "name": "stdout",
     "output_type": "stream",
     "text": [
      "\n",
      " ('Home Losses to Date',), 0.7570929007627543\n"
     ]
    },
    {
     "name": "stderr",
     "output_type": "stream",
     "text": [
      "[Parallel(n_jobs=-1)]: Done   1 out of   1 | elapsed:    0.7s finished\n",
      "\n",
      "[2020-05-03 23:02:15] Features: 12/12 -- score: 0.7242382359231068"
     ]
    }
   ],
   "source": [
    "sfs = SFS(RandomForestClassifier(n_estimators=100, random_state=0, n_jobs=-1),\n",
    "          k_features=(1, 12),\n",
    "          forward=True,\n",
    "          floating=False,\n",
    "          verbose=2,\n",
    "          scoring='accuracy',\n",
    "          cv=4,\n",
    "          n_jobs=-1).fit(x_train, y_train)\n",
    "\n",
    "print(f'\\n {sfs.k_feature_names_}, {sfs.k_score_}')"
   ]
  },
  {
   "cell_type": "markdown",
   "metadata": {},
   "source": [
    "The best model with stepwise forward selection is the model with 'Home Losses to Date' as the sole predictor. The prediction score is 0.7242382359231068."
   ]
  },
  {
   "cell_type": "markdown",
   "metadata": {},
   "source": [
    "# Step Backward Feature Selection"
   ]
  },
  {
   "cell_type": "code",
   "execution_count": 15,
   "metadata": {},
   "outputs": [
    {
     "name": "stderr",
     "output_type": "stream",
     "text": [
      "[Parallel(n_jobs=-1)]: Using backend LokyBackend with 8 concurrent workers.\n",
      "[Parallel(n_jobs=-1)]: Done   4 out of  12 | elapsed:    2.1s remaining:    4.2s\n",
      "[Parallel(n_jobs=-1)]: Done  12 out of  12 | elapsed:    3.7s finished\n",
      "\n",
      "[2020-05-03 23:07:29] Features: 11/1 -- score: 0.7302113613141867[Parallel(n_jobs=-1)]: Using backend LokyBackend with 8 concurrent workers.\n",
      "[Parallel(n_jobs=-1)]: Done   2 out of  11 | elapsed:    2.0s remaining:    9.3s\n",
      "[Parallel(n_jobs=-1)]: Done   8 out of  11 | elapsed:    2.4s remaining:    0.8s\n",
      "[Parallel(n_jobs=-1)]: Done  11 out of  11 | elapsed:    3.5s finished\n",
      "\n",
      "[2020-05-03 23:07:32] Features: 10/1 -- score: 0.733697417091079[Parallel(n_jobs=-1)]: Using backend LokyBackend with 8 concurrent workers.\n",
      "[Parallel(n_jobs=-1)]: Done   7 out of  10 | elapsed:    2.4s remaining:    1.0s\n",
      "[Parallel(n_jobs=-1)]: Done  10 out of  10 | elapsed:    3.5s finished\n",
      "\n",
      "[2020-05-03 23:07:36] Features: 9/1 -- score: 0.7346914528763673[Parallel(n_jobs=-1)]: Using backend LokyBackend with 8 concurrent workers.\n",
      "[Parallel(n_jobs=-1)]: Done   4 out of   9 | elapsed:    2.2s remaining:    2.8s\n",
      "[Parallel(n_jobs=-1)]: Done   9 out of   9 | elapsed:    3.0s remaining:    0.0s\n",
      "[Parallel(n_jobs=-1)]: Done   9 out of   9 | elapsed:    3.0s finished\n",
      "\n",
      "[2020-05-03 23:07:39] Features: 8/1 -- score: 0.7341924548327565[Parallel(n_jobs=-1)]: Using backend LokyBackend with 8 concurrent workers.\n",
      "[Parallel(n_jobs=-1)]: Done   3 out of   8 | elapsed:    2.2s remaining:    3.7s\n",
      "[Parallel(n_jobs=-1)]: Done   8 out of   8 | elapsed:    2.5s remaining:    0.0s\n",
      "[Parallel(n_jobs=-1)]: Done   8 out of   8 | elapsed:    2.5s finished\n",
      "\n",
      "[2020-05-03 23:07:42] Features: 7/1 -- score: 0.7381715682003596[Parallel(n_jobs=-1)]: Using backend LokyBackend with 8 concurrent workers.\n",
      "[Parallel(n_jobs=-1)]: Done   4 out of   7 | elapsed:    1.8s remaining:    1.3s\n",
      "[Parallel(n_jobs=-1)]: Done   7 out of   7 | elapsed:    1.9s finished\n",
      "\n",
      "[2020-05-03 23:07:44] Features: 6/1 -- score: 0.7312073772504415[Parallel(n_jobs=-1)]: Using backend LokyBackend with 8 concurrent workers.\n",
      "[Parallel(n_jobs=-1)]: Done   3 out of   6 | elapsed:    1.6s remaining:    1.6s\n",
      "[Parallel(n_jobs=-1)]: Done   6 out of   6 | elapsed:    1.8s finished\n",
      "\n",
      "[2020-05-03 23:07:46] Features: 5/1 -- score: 0.7307073891313474[Parallel(n_jobs=-1)]: Using backend LokyBackend with 8 concurrent workers.\n",
      "[Parallel(n_jobs=-1)]: Done   2 out of   5 | elapsed:    1.5s remaining:    2.4s\n",
      "[Parallel(n_jobs=-1)]: Done   5 out of   5 | elapsed:    1.8s remaining:    0.0s\n",
      "[Parallel(n_jobs=-1)]: Done   5 out of   5 | elapsed:    1.8s finished\n",
      "\n",
      "[2020-05-03 23:07:47] Features: 4/1 -- score: 0.725232271708395[Parallel(n_jobs=-1)]: Using backend LokyBackend with 8 concurrent workers.\n",
      "[Parallel(n_jobs=-1)]: Done   4 out of   4 | elapsed:    1.1s remaining:    0.0s\n",
      "[Parallel(n_jobs=-1)]: Done   4 out of   4 | elapsed:    1.1s finished\n",
      "\n",
      "[2020-05-03 23:07:49] Features: 3/1 -- score: 0.725731269752006[Parallel(n_jobs=-1)]: Using backend LokyBackend with 8 concurrent workers.\n",
      "[Parallel(n_jobs=-1)]: Done   3 out of   3 | elapsed:    1.0s finished\n",
      "\n",
      "[2020-05-03 23:07:50] Features: 2/1 -- score: 0.7048278060719348[Parallel(n_jobs=-1)]: Using backend LokyBackend with 8 concurrent workers.\n"
     ]
    },
    {
     "name": "stdout",
     "output_type": "stream",
     "text": [
      "\n",
      " ('Home PF', 'Home PA', 'Home Ties to Date ', 'Away PF', 'Away PA', 'Away Wins to Date', 'Away Ties to Date '), 0.7381715682003596\n"
     ]
    },
    {
     "name": "stderr",
     "output_type": "stream",
     "text": [
      "[Parallel(n_jobs=-1)]: Done   2 out of   2 | elapsed:    0.7s finished\n",
      "\n",
      "[2020-05-03 23:07:51] Features: 1/1 -- score: 0.7108039016894647"
     ]
    }
   ],
   "source": [
    "sfs = SFS(RandomForestClassifier(n_estimators=100, random_state=0, n_jobs=-1),\n",
    "          k_features=(1, 12),\n",
    "          forward=False,\n",
    "          floating=False,\n",
    "          verbose=2,\n",
    "          scoring='accuracy',\n",
    "          cv=4,\n",
    "          n_jobs=-1).fit(x_train, y_train)\n",
    "\n",
    "print(f'\\n {sfs.k_feature_names_}, {sfs.k_score_}')"
   ]
  },
  {
   "cell_type": "markdown",
   "metadata": {},
   "source": [
    "The best model with stepwise backward selection is the model with 'Home PF', 'Home PA', 'Home Ties to Date ', 'Away PF', 'Away PA', 'Away Wins to Date', and 'Away Ties to Date ' as the predictors. The prediction score is 0.7381715682003596."
   ]
  },
  {
   "cell_type": "markdown",
   "metadata": {},
   "source": [
    "# Exhaustive Feature Selection"
   ]
  },
  {
   "cell_type": "code",
   "execution_count": 17,
   "metadata": {},
   "outputs": [
    {
     "name": "stderr",
     "output_type": "stream",
     "text": [
      "Features: 1287/1287"
     ]
    },
    {
     "name": "stdout",
     "output_type": "stream",
     "text": [
      "\n",
      " ('Home PF', 'Home PA', 'Home Wins to Date', 'Road Closing Spread'), 0.9855649576903932\n"
     ]
    }
   ],
   "source": [
    "efs = EFS(RandomForestClassifier(n_estimators=100, random_state=0, n_jobs=-1),\n",
    "          min_features=4,\n",
    "          max_features=5,\n",
    "          scoring='accuracy',\n",
    "          cv=None,\n",
    "          n_jobs=-1).fit(x_train, y_train)\n",
    "\n",
    "print(f'\\n {efs.best_feature_names_}, {efs.best_score_}')"
   ]
  },
  {
   "cell_type": "markdown",
   "metadata": {},
   "source": [
    "The best model with exhaustive feature selection is the model with 'Home PF', 'Home PA', 'Home Wins to Date', and 'Road Closing Spread' as the predictors. The prediction score is 0.9855649576903932. This is the best model."
   ]
  }
 ],
 "metadata": {
  "kernelspec": {
   "display_name": "Python 3",
   "language": "python",
   "name": "python3"
  },
  "language_info": {
   "codemirror_mode": {
    "name": "ipython",
    "version": 3
   },
   "file_extension": ".py",
   "mimetype": "text/x-python",
   "name": "python",
   "nbconvert_exporter": "python",
   "pygments_lexer": "ipython3",
   "version": "3.8.1"
  }
 },
 "nbformat": 4,
 "nbformat_minor": 4
}
